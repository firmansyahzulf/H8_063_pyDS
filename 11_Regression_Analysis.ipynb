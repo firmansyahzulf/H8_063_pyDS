{
  "nbformat": 4,
  "nbformat_minor": 0,
  "metadata": {
    "colab": {
      "name": "11. Regression Analysis.ipynb",
      "provenance": []
    },
    "kernelspec": {
      "name": "python3",
      "display_name": "Python 3"
    },
    "language_info": {
      "name": "python"
    }
  },
  "cells": [
    {
      "cell_type": "code",
      "metadata": {
        "colab": {
          "base_uri": "https://localhost:8080/"
        },
        "id": "AOz1u2chLK2I",
        "outputId": "97e8def9-5b25-43e4-fe97-9706a558148f"
      },
      "source": [
        "import numpy as np\n",
        "import matplotlib.pyplot as plt\n",
        "from sklearn.linear_model import LinearRegression\n",
        "\n",
        "#@matplotlib inline\n",
        "\n",
        "#data training\n",
        "x=np.array([5,15,25,35,45,55]).reshape((-1,1))\n",
        "y=np.array([5,20,14,32,22,38])\n",
        "\n",
        "print(x)\n",
        "print(y)\n",
        "\n",
        "model = LinearRegression()\n",
        "model.fit(x,y)\n",
        "\n",
        "#Step 1 buat Linear regression via SCIPY\n",
        "LinearRegression(copy_X=True, \n",
        "                 fit_intercept=True,\n",
        "                 n_jobs=None, \n",
        "                 normalize=False)\n",
        "\n",
        "\n",
        "#Step 2 hitung dan hitung coefficient of determination\n",
        "\n",
        "model= LinearRegression().fit(x,y)\n",
        "r_sq = model.score(x,y)\n",
        "print('coefficient of determination',r_sq)\n",
        "print('intercept:', model.intercept_)\n",
        "print('slope:', model.coef_)\n",
        "\n",
        "#0.7158756137479542\n",
        "\n",
        "\n",
        "#experiment calculate new model with new input\n",
        "\n",
        "new_model = LinearRegression().fit(x,y.reshape(-1,1))\n",
        "print('intercept', new_model.intercept_)\n",
        "print('slope:', new_model.coef_)\n",
        "\n",
        "y_pred = model.predict(x)\n",
        "print('predicted response:', y_pred, sep='\\n')\n",
        "\n"
      ],
      "execution_count": null,
      "outputs": [
        {
          "output_type": "stream",
          "name": "stdout",
          "text": [
            "[[ 5]\n",
            " [15]\n",
            " [25]\n",
            " [35]\n",
            " [45]\n",
            " [55]]\n",
            "[ 5 20 14 32 22 38]\n",
            "coefficient of determination 0.7158756137479542\n",
            "intercept: 5.633333333333329\n",
            "slope: [0.54]\n",
            "intercept [5.63333333]\n",
            "slope: [[0.54]]\n",
            "predicted response:\n",
            "[ 8.33333333 13.73333333 19.13333333 24.53333333 29.93333333 35.33333333]\n"
          ]
        }
      ]
    }
  ]
}