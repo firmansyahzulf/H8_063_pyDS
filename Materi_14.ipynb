{
  "nbformat": 4,
  "nbformat_minor": 0,
  "metadata": {
    "colab": {
      "name": "Materi 14.ipynb",
      "provenance": [],
      "collapsed_sections": []
    },
    "kernelspec": {
      "name": "python3",
      "display_name": "Python 3"
    },
    "language_info": {
      "name": "python"
    }
  },
  "cells": [
    {
      "cell_type": "code",
      "metadata": {
        "id": "a1dvsXf-tNIu"
      },
      "source": [
        "#UNSUPERVISED LEARNING : Dimensionality Reduction dan CLustering"
      ],
      "execution_count": null,
      "outputs": []
    },
    {
      "cell_type": "code",
      "metadata": {
        "colab": {
          "base_uri": "https://localhost:8080/"
        },
        "id": "Bw5diXlPuI44",
        "outputId": "ea27be58-7bc6-4472-ae7a-6a3fae00e045"
      },
      "source": [
        "#PCA : mereduksi feature / input yang tidak relevan\n",
        "\n",
        "import pandas as pd\n",
        "\n",
        "weather = ['Sunny','Sunny','Overcast','Rainy','Rainy','Rainy','Overcast','Sunny','Sunny','Rainy','Sunny','Overcast','Overcast','Rainy']\n",
        "temp_in_01PM = ['Hot','Hot','Hot','Mild','Cool','Cool','Cool','Mild','Cool','Mild','Mild','Mild','Hot','Mild']\n",
        "temp_in_02PM = ['Hot','Cool','Hot','Mild','Cool','Cool','Cool','Mild','Cool','Hot','Mild','Mild','Hot','Mild']\n",
        "temp_in_03PM = ['Hot','Hot','Hot','Mild','Cool','Hot','Cool','Mild','Cool','Mild','Mild','Mild','Hot','Mild']\n",
        "temp_in_04PM = ['Hot','Cool','Hot','Mild','Cool','Cool','Cool','Mild','Cool','Mild','Mild','Mild','Hot','Mild']\n",
        "temp_in_05PM = ['Hot','Hot','Cool','Mild','Cool','Cool','Cool','Mild','Cool','Hot', 'Mild','Mild','Hot','Mild']\n",
        "temp_in_06PM = ['Hot','Hot','Cool','Mild','Cool','Cool','Cool','Mild','Cool','Mild','Cool','Mild','Hot','Mild']\n",
        "temp_in_07PM = ['Hot','Hot','Hot','Mild','Cool','Cool','Cool','Cool','Cool','Mild','Mild','Cool','Hot','Mild']\n",
        "temp_in_08PM = ['Hot','Hot','Hot','Cool','Cool','Cool','Cool','Mild','Cool','Mild','Mild','Mild','Hot','Mild']\n",
        "\n",
        "\n",
        "play = ['No','No','Yes','Yes','Yes',\n",
        "        'No','Yes','No','Yes','Yes',\n",
        "        'Yes','Yes','Yes','No']\n",
        "\n",
        "\n",
        "from sklearn import preprocessing\n",
        "\n",
        "encode = preprocessing.LabelEncoder()\n",
        "weather_encoded=encode.fit_transform(weather)\n",
        "#Sunny = 2 , Overcast = 0 , Rainy = 1\n",
        "print(weather_encoded)\n",
        "\n",
        "#Mild = 2 , Hot = 1, Cool = 0\n",
        "temp_in_01PM_encoded = encode.fit_transform(temp_in_01PM)\n",
        "print(temp_in_01PM_encoded)\n",
        "\n",
        "#Mild = 2 , Hot = 1, Cool = 0\n",
        "temp_in_02PM_encoded = encode.fit_transform(temp_in_02PM)\n",
        "print(temp_in_02PM_encoded)\n",
        "\n",
        "\n",
        "#Mild = 2 , Hot = 1, Cool = 0\n",
        "temp_in_03PM_encoded = encode.fit_transform(temp_in_03PM)\n",
        "print(temp_in_03PM_encoded)\n",
        "\n",
        "#Mild = 2 , Hot = 1, Cool = 0\n",
        "temp_in_04PM_encoded = encode.fit_transform(temp_in_04PM)\n",
        "print(temp_in_04PM_encoded)\n",
        "\n",
        "\n",
        "#Mild = 2 , Hot = 1, Cool = 0\n",
        "temp_in_05PM_encoded = encode.fit_transform(temp_in_05PM)\n",
        "print(temp_in_05PM_encoded)\n",
        "\n",
        "#Mild = 2 , Hot = 1, Cool = 0\n",
        "temp_in_06PM_encoded = encode.fit_transform(temp_in_06PM)\n",
        "print(temp_in_06PM_encoded)\n",
        "\n",
        "#Mild = 2 , Hot = 1, Cool = 0\n",
        "temp_in_07PM_encoded = encode.fit_transform(temp_in_07PM)\n",
        "print(temp_in_07PM_encoded)\n",
        "\n",
        "#Mild = 2 , Hot = 1, Cool = 0\n",
        "temp_in_08PM_encoded = encode.fit_transform(temp_in_08PM)\n",
        "print(temp_in_08PM_encoded)\n",
        "\n",
        "#No = 0, Yes = 1\n",
        "play_encoded = encode.fit_transform(play)\n",
        "label = play_encoded\n",
        "print(play_encoded)\n",
        "\n",
        "#zip encoder \n",
        "features = list(zip(weather_encoded,\n",
        "                    temp_in_01PM_encoded,\n",
        "                    temp_in_02PM_encoded,\n",
        "                    temp_in_03PM_encoded,\n",
        "                    temp_in_04PM_encoded,\n",
        "                    temp_in_05PM_encoded,\n",
        "                    temp_in_06PM_encoded,\n",
        "                    temp_in_07PM_encoded,\n",
        "                    temp_in_08PM_encoded))\n",
        "print(features)\n",
        "\n",
        "\n"
      ],
      "execution_count": null,
      "outputs": [
        {
          "output_type": "stream",
          "name": "stdout",
          "text": [
            "[2 2 0 1 1 1 0 2 2 1 2 0 0 1]\n",
            "[1 1 1 2 0 0 0 2 0 2 2 2 1 2]\n",
            "[1 0 1 2 0 0 0 2 0 1 2 2 1 2]\n",
            "[1 1 1 2 0 1 0 2 0 2 2 2 1 2]\n",
            "[1 0 1 2 0 0 0 2 0 2 2 2 1 2]\n",
            "[1 1 0 2 0 0 0 2 0 1 2 2 1 2]\n",
            "[1 1 0 2 0 0 0 2 0 2 0 2 1 2]\n",
            "[1 1 1 2 0 0 0 0 0 2 2 0 1 2]\n",
            "[1 1 1 0 0 0 0 2 0 2 2 2 1 2]\n",
            "[0 0 1 1 1 0 1 0 1 1 1 1 1 0]\n",
            "[(2, 1, 1, 1, 1, 1, 1, 1, 1), (2, 1, 0, 1, 0, 1, 1, 1, 1), (0, 1, 1, 1, 1, 0, 0, 1, 1), (1, 2, 2, 2, 2, 2, 2, 2, 0), (1, 0, 0, 0, 0, 0, 0, 0, 0), (1, 0, 0, 1, 0, 0, 0, 0, 0), (0, 0, 0, 0, 0, 0, 0, 0, 0), (2, 2, 2, 2, 2, 2, 2, 0, 2), (2, 0, 0, 0, 0, 0, 0, 0, 0), (1, 2, 1, 2, 2, 1, 2, 2, 2), (2, 2, 2, 2, 2, 2, 0, 2, 2), (0, 2, 2, 2, 2, 2, 2, 0, 2), (0, 1, 1, 1, 1, 1, 1, 1, 1), (1, 2, 2, 2, 2, 2, 2, 2, 2)]\n"
          ]
        }
      ]
    },
    {
      "cell_type": "code",
      "metadata": {
        "colab": {
          "base_uri": "https://localhost:8080/"
        },
        "id": "5ivfSVUHuvY0",
        "outputId": "b79d1df4-460d-4e8d-ac4a-e41ea7f22171"
      },
      "source": [
        "from sklearn.decomposition import PCA\n",
        "\n",
        "X = features\n",
        "y = label\n",
        "\n",
        "pca_play = PCA(n_components =  1)\n",
        "principalComponents_play = pca_play.fit_transform(X)\n",
        "\n",
        "principalComponents_DF_1 = pd.DataFrame(data=principalComponents_play,columns=['TheMostRelevantOne',])\n",
        "\n",
        "print(principalComponents_DF_1)\n",
        "\n",
        "print(f\"\"\"Explained variation per principalComponents {pca_play.explained_variance_ratio_} \n",
        "\n",
        "which means the most releavant one variable contain {100* pca_play.explained_variance_ratio_[0]}% \n",
        "\n",
        "\"\"\" )"
      ],
      "execution_count": null,
      "outputs": [
        {
          "output_type": "stream",
          "name": "stdout",
          "text": [
            "    TheMostRelevantOne\n",
            "0             0.065792\n",
            "1             0.842619\n",
            "2             0.850107\n",
            "3            -2.050836\n",
            "4             2.905589\n",
            "5             2.555860\n",
            "6             2.942144\n",
            "7            -2.237685\n",
            "8             2.869034\n",
            "9            -1.955191\n",
            "10           -2.060865\n",
            "11           -2.164575\n",
            "12            0.138902\n",
            "13           -2.700895\n",
            "Explained variation per principalComponents [0.70657172] \n",
            "\n",
            "which means the most releavant one variable contain 70.65717158931567% \n",
            "\n",
            "\n"
          ]
        }
      ]
    },
    {
      "cell_type": "code",
      "metadata": {
        "colab": {
          "base_uri": "https://localhost:8080/"
        },
        "id": "L2R1hbFWzDMZ",
        "outputId": "5dce54d3-cf34-4d4d-82b2-fbe918c6afb1"
      },
      "source": [
        "pca_play = PCA(n_components =  2)\n",
        "principalComponents_play = pca_play.fit_transform(X)\n",
        "\n",
        "principalComponents_DF_2 = pd.DataFrame(data=principalComponents_play,columns=['TheMostRelevant','TheSecondMostRelevant'])\n",
        "\n",
        "print(principalComponents_DF_2)\n",
        "\n",
        "print(f\"\"\"Explained variation per principalComponents {pca_play.explained_variance_ratio_} \n",
        "\n",
        "which means 2 most relevant variable contain {100* ( pca_play.explained_variance_ratio_[0] + pca_play.explained_variance_ratio_[1])}% \n",
        "\n",
        "\"\"\" )"
      ],
      "execution_count": null,
      "outputs": [
        {
          "output_type": "stream",
          "name": "stdout",
          "text": [
            "    TheMostRelevant  TheSecondMostRelevant\n",
            "0          0.065792              -0.906935\n",
            "1          0.842619              -1.135367\n",
            "2          0.850107               0.956464\n",
            "3         -2.050836               0.125074\n",
            "4          2.905589               0.015267\n",
            "5          2.555860               0.014280\n",
            "6          2.942144               0.963370\n",
            "7         -2.237685              -0.475335\n",
            "8          2.869034              -0.932837\n",
            "9         -1.955191               0.067397\n",
            "10        -2.060865              -1.168594\n",
            "11        -2.164575               1.420872\n",
            "12         0.138902               0.989272\n",
            "13        -2.700895               0.067070\n",
            "Explained variation per principalComponents [0.70657172 0.10656813] \n",
            "\n",
            "which means 2 most relevant variable contain 81.3139843701494% \n",
            "\n",
            "\n"
          ]
        }
      ]
    },
    {
      "cell_type": "code",
      "metadata": {
        "colab": {
          "base_uri": "https://localhost:8080/"
        },
        "id": "h0QDQSWA0Vvr",
        "outputId": "21ea317c-64f9-4c1e-e4a5-6d021078c77d"
      },
      "source": [
        "#Decision Tree\n",
        "#Library yang perlu diingat\n",
        "from sklearn.tree import DecisionTreeClassifier\n",
        "from sklearn.model_selection import train_test_split\n",
        "from sklearn import metrics\n",
        "\n",
        "X = principalComponents_DF_1\n",
        "y = label\n",
        "\n",
        "X_train, X_test, y_train, y_test = train_test_split(X,y,test_size = 0.5, random_state=1)\n",
        "\n",
        "model = DecisionTreeClassifier()\n",
        "model = model.fit(X_train,y_train)\n",
        "y_pred = model.predict(X_test)\n",
        "\n",
        "print(f\"\"\"\n",
        "____________________________________________________________\n",
        "\n",
        "Berdasarkan model Decision Tree kita ()\n",
        "\n",
        "Prediksi Machine Learning Decision Tree dengan input \n",
        "cuaca Rainy,Overcast, dan Suhu Mild, Hot\n",
        "\n",
        "1 = Play, 0 = No\n",
        "\n",
        "{model.predict([[0.1]])} <- Not Play      (Overcast, dan Suhu Mild)\n",
        "{model.predict([[0.1]])} <- Not Play      (Overcast, dan Suhu Hot)\n",
        "{model.predict([[0.1]])} <- Not Play      (Rainy, dan Suhu Hot)\n",
        "{model.predict([[0.1]])} <- Not Play      (Rainy, dan Suhu Mild)\n",
        "\n",
        "____________________________________________________________\n",
        "\n",
        "\"\"\")"
      ],
      "execution_count": null,
      "outputs": [
        {
          "output_type": "stream",
          "name": "stdout",
          "text": [
            "\n",
            "____________________________________________________________\n",
            "\n",
            "Berdasarkan model Decision Tree kita ()\n",
            "\n",
            "Prediksi Machine Learning Decision Tree dengan input \n",
            "cuaca Rainy,Overcast, dan Suhu Mild, Hot\n",
            "\n",
            "1 = Play, 0 = No\n",
            "\n",
            "[0] <- Not Play      (Overcast, dan Suhu Mild)\n",
            "[0] <- Not Play      (Overcast, dan Suhu Hot)\n",
            "[0] <- Not Play      (Rainy, dan Suhu Hot)\n",
            "[0] <- Not Play      (Rainy, dan Suhu Mild)\n",
            "\n",
            "____________________________________________________________\n",
            "\n",
            "\n"
          ]
        },
        {
          "output_type": "stream",
          "name": "stderr",
          "text": [
            "/usr/local/lib/python3.7/dist-packages/sklearn/base.py:446: UserWarning: X does not have valid feature names, but DecisionTreeClassifier was fitted with feature names\n",
            "  \"X does not have valid feature names, but\"\n",
            "/usr/local/lib/python3.7/dist-packages/sklearn/base.py:446: UserWarning: X does not have valid feature names, but DecisionTreeClassifier was fitted with feature names\n",
            "  \"X does not have valid feature names, but\"\n",
            "/usr/local/lib/python3.7/dist-packages/sklearn/base.py:446: UserWarning: X does not have valid feature names, but DecisionTreeClassifier was fitted with feature names\n",
            "  \"X does not have valid feature names, but\"\n",
            "/usr/local/lib/python3.7/dist-packages/sklearn/base.py:446: UserWarning: X does not have valid feature names, but DecisionTreeClassifier was fitted with feature names\n",
            "  \"X does not have valid feature names, but\"\n"
          ]
        }
      ]
    },
    {
      "cell_type": "code",
      "metadata": {
        "colab": {
          "base_uri": "https://localhost:8080/"
        },
        "id": "jWgdGv5n0WjC",
        "outputId": "afcee37e-0079-4e7b-dac4-1214f9fbdd99"
      },
      "source": [
        "#Decision Tree\n",
        "#Library yang perlu diingat\n",
        "from sklearn.tree import DecisionTreeClassifier\n",
        "from sklearn.model_selection import train_test_split\n",
        "from sklearn import metrics\n",
        "\n",
        "X = principalComponents_DF_2\n",
        "y = label\n",
        "\n",
        "X_train, X_test, y_train, y_test = train_test_split(X,y,test_size = 0.5, random_state=1)\n",
        "\n",
        "model = DecisionTreeClassifier()\n",
        "model = model.fit(X_train,y_train)\n",
        "y_pred = model.predict(X_test)\n",
        "\n",
        "print(f\"\"\"\n",
        "____________________________________________________________\n",
        "\n",
        "Berdasarkan model Decision Tree kita ()\n",
        "\n",
        "Prediksi Machine Learning Decision Tree dengan input \n",
        "cuaca Rainy,Overcast, dan Suhu Mild, Hot\n",
        "\n",
        "1 = Play, 0 = No\n",
        "\n",
        "\n",
        "{model.predict([[0,2]])} <- Play      (Overcast, dan Suhu Mild)\n",
        "{model.predict([[0,2]])} <- Play      (Overcast, dan Suhu Hot)\n",
        "{model.predict([[0,2]])} <- Play      (Rainy, dan Suhu Hot)\n",
        "{model.predict([[0,2]])} <- Play      (Rainy, dan Suhu Mild)\n",
        "\n",
        "____________________________________________________________\n",
        "\n",
        "\"\"\")"
      ],
      "execution_count": null,
      "outputs": [
        {
          "output_type": "stream",
          "name": "stdout",
          "text": [
            "\n",
            "____________________________________________________________\n",
            "\n",
            "Berdasarkan model Decision Tree kita ()\n",
            "\n",
            "Prediksi Machine Learning Decision Tree dengan input \n",
            "cuaca Rainy,Overcast, dan Suhu Mild, Hot\n",
            "\n",
            "1 = Play, 0 = No\n",
            "\n",
            "\n",
            "[1] <- Play      (Overcast, dan Suhu Mild)\n",
            "[1] <- Play      (Overcast, dan Suhu Hot)\n",
            "[1] <- Play      (Rainy, dan Suhu Hot)\n",
            "[1] <- Play      (Rainy, dan Suhu Mild)\n",
            "\n",
            "____________________________________________________________\n",
            "\n",
            "\n"
          ]
        },
        {
          "output_type": "stream",
          "name": "stderr",
          "text": [
            "/usr/local/lib/python3.7/dist-packages/sklearn/base.py:446: UserWarning: X does not have valid feature names, but DecisionTreeClassifier was fitted with feature names\n",
            "  \"X does not have valid feature names, but\"\n",
            "/usr/local/lib/python3.7/dist-packages/sklearn/base.py:446: UserWarning: X does not have valid feature names, but DecisionTreeClassifier was fitted with feature names\n",
            "  \"X does not have valid feature names, but\"\n",
            "/usr/local/lib/python3.7/dist-packages/sklearn/base.py:446: UserWarning: X does not have valid feature names, but DecisionTreeClassifier was fitted with feature names\n",
            "  \"X does not have valid feature names, but\"\n",
            "/usr/local/lib/python3.7/dist-packages/sklearn/base.py:446: UserWarning: X does not have valid feature names, but DecisionTreeClassifier was fitted with feature names\n",
            "  \"X does not have valid feature names, but\"\n"
          ]
        }
      ]
    },
    {
      "cell_type": "code",
      "metadata": {
        "colab": {
          "base_uri": "https://localhost:8080/"
        },
        "id": "yw0-8sQ82xTb",
        "outputId": "daa19d0d-ea49-4d33-c491-45d961d7e3fc"
      },
      "source": [
        "import numpy as np\n",
        "import pickle\n",
        "\n",
        "pickle.dump(model,open('model_classifier_terbaik.pkl','wb'))\n",
        "\n",
        "model_load = pickle.load(open('model_classifier_terbaik.pkl','rb'))\n",
        "\n",
        "print(f\"\"\"\n",
        "____________________________________________________________\n",
        "\n",
        "Berdasarkan model *terbaik* kita (n_estimator =100)\n",
        "\n",
        "Prediksi Machine Learning dengan input \n",
        "cuaca Rainy,Overcast, dan Suhu Mild, Hot\n",
        "\n",
        "1 = Play, 0 = No\n",
        "\n",
        "{model.predict([[0,2]])} <- Play      (Overcast, dan Suhu Mild)\n",
        "{model.predict([[0,1]])} <- Play      (Overcast, dan Suhu Hot)\n",
        "{model.predict([[1,1]])} <- Not Play  (Rainy, dan Suhu Hot)\n",
        "{model.predict([[1,2]])} <- Not Play  (Rainy, dan Suhu Mild)\n",
        "\n",
        "____________________________________________________________\n",
        "\n",
        "\"\"\")\n"
      ],
      "execution_count": null,
      "outputs": [
        {
          "output_type": "stream",
          "name": "stdout",
          "text": [
            "\n",
            "____________________________________________________________\n",
            "\n",
            "Berdasarkan model *terbaik* kita (n_estimator =100)\n",
            "\n",
            "Prediksi Machine Learning dengan input \n",
            "cuaca Rainy,Overcast, dan Suhu Mild, Hot\n",
            "\n",
            "1 = Play, 0 = No\n",
            "\n",
            "[1] <- Play      (Overcast, dan Suhu Mild)\n",
            "[1] <- Play      (Overcast, dan Suhu Hot)\n",
            "[1] <- Not Play  (Rainy, dan Suhu Hot)\n",
            "[1] <- Not Play  (Rainy, dan Suhu Mild)\n",
            "\n",
            "____________________________________________________________\n",
            "\n",
            "\n"
          ]
        },
        {
          "output_type": "stream",
          "name": "stderr",
          "text": [
            "/usr/local/lib/python3.7/dist-packages/sklearn/base.py:446: UserWarning: X does not have valid feature names, but DecisionTreeClassifier was fitted with feature names\n",
            "  \"X does not have valid feature names, but\"\n",
            "/usr/local/lib/python3.7/dist-packages/sklearn/base.py:446: UserWarning: X does not have valid feature names, but DecisionTreeClassifier was fitted with feature names\n",
            "  \"X does not have valid feature names, but\"\n",
            "/usr/local/lib/python3.7/dist-packages/sklearn/base.py:446: UserWarning: X does not have valid feature names, but DecisionTreeClassifier was fitted with feature names\n",
            "  \"X does not have valid feature names, but\"\n",
            "/usr/local/lib/python3.7/dist-packages/sklearn/base.py:446: UserWarning: X does not have valid feature names, but DecisionTreeClassifier was fitted with feature names\n",
            "  \"X does not have valid feature names, but\"\n"
          ]
        }
      ]
    }
  ]
}